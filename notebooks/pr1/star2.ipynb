{
 "cells": [
  {
   "cell_type": "code",
   "execution_count": 1,
   "id": "initial_id",
   "metadata": {
    "collapsed": true,
    "ExecuteTime": {
     "end_time": "2023-09-10T20:11:35.712792100Z",
     "start_time": "2023-09-10T20:11:31.967951200Z"
    }
   },
   "outputs": [
    {
     "name": "stdout",
     "output_type": "stream",
     "text": [
      "OK\n",
      "b1\n",
      "b2\n"
     ]
    }
   ],
   "source": [
    "names = {}\n",
    "\n",
    "n = int(input(\"N\"))\n",
    "\n",
    "for i in range(n):\n",
    "    name = input(\"Name\")\n",
    "    if name in names.keys():\n",
    "        new_name = name + str(names[name])\n",
    "        names[new_name] = 1\n",
    "        names[name] += 1\n",
    "        print(new_name)\n",
    "    else:\n",
    "        names[name] = 1\n",
    "        print(\"OK\")"
   ]
  }
 ],
 "metadata": {
  "kernelspec": {
   "display_name": "Python 3",
   "language": "python",
   "name": "python3"
  },
  "language_info": {
   "codemirror_mode": {
    "name": "ipython",
    "version": 2
   },
   "file_extension": ".py",
   "mimetype": "text/x-python",
   "name": "python",
   "nbconvert_exporter": "python",
   "pygments_lexer": "ipython2",
   "version": "2.7.6"
  }
 },
 "nbformat": 4,
 "nbformat_minor": 5
}
