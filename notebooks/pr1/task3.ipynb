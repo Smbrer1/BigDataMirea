{
 "cells": [
  {
   "cell_type": "code",
   "execution_count": 6,
   "id": "initial_id",
   "metadata": {
    "collapsed": true,
    "ExecuteTime": {
     "end_time": "2023-09-09T12:05:03.886624700Z",
     "start_time": "2023-09-09T12:04:59.498131300Z"
    }
   },
   "outputs": [],
   "source": [
    "d1, sign, d2 = [i for i in input(\"digit sign digit\").split()[0:3]]\n"
   ]
  },
  {
   "cell_type": "code",
   "execution_count": 7,
   "outputs": [
    {
     "name": "stdout",
     "output_type": "stream",
     "text": [
      "16\n"
     ]
    }
   ],
   "source": [
    "import math\n",
    "\n",
    "d1 = int(d1)\n",
    "d2 = int(d2)\n",
    "match sign:\n",
    "    case '+':\n",
    "        print(d1 + d2)\n",
    "    case '-':\n",
    "        print(d1 - d2)\n",
    "    case '*':\n",
    "        print(d1 * d2)\n",
    "    case '/':\n",
    "        print(d1 / d2)\n",
    "    case '//':\n",
    "        print(d1 // d2)\n",
    "    case 'abs':\n",
    "        print(abs(d1), abs(d2))\n",
    "    case 'pow':\n",
    "        print(pow(d1, d2))\n",
    "    case '**':\n",
    "        print(d1 ** d2)"
   ],
   "metadata": {
    "collapsed": false,
    "ExecuteTime": {
     "end_time": "2023-09-09T12:05:03.918638200Z",
     "start_time": "2023-09-09T12:05:03.874692100Z"
    }
   },
   "id": "6f6af628d426d208"
  }
 ],
 "metadata": {
  "kernelspec": {
   "display_name": "Python 3",
   "language": "python",
   "name": "python3"
  },
  "language_info": {
   "codemirror_mode": {
    "name": "ipython",
    "version": 2
   },
   "file_extension": ".py",
   "mimetype": "text/x-python",
   "name": "python",
   "nbconvert_exporter": "python",
   "pygments_lexer": "ipython2",
   "version": "2.7.6"
  }
 },
 "nbformat": 4,
 "nbformat_minor": 5
}
