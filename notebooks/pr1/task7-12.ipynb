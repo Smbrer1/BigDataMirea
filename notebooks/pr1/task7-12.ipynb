{
 "cells": [
  {
   "cell_type": "code",
   "execution_count": 5,
   "id": "9c5e1b1448123bac",
   "metadata": {
    "ExecuteTime": {
     "end_time": "2023-09-09T19:06:44.668730400Z",
     "start_time": "2023-09-09T19:06:44.554529800Z"
    }
   },
   "outputs": [],
   "source": [
    "from sklearn.datasets import fetch_california_housing\n",
    "import pandas as pd\n",
    "\n",
    "data = fetch_california_housing(as_frame=True)\n",
    "data = pd.DataFrame(data.data,columns=data.feature_names)"
   ]
  },
  {
   "cell_type": "code",
   "execution_count": 6,
   "id": "5008effb014e904d",
   "metadata": {
    "ExecuteTime": {
     "end_time": "2023-09-09T19:06:44.722666200Z",
     "start_time": "2023-09-09T19:06:44.663359400Z"
    }
   },
   "outputs": [
    {
     "name": "stdout",
     "output_type": "stream",
     "text": [
      "<class 'pandas.core.frame.DataFrame'>\n"
     ]
    }
   ],
   "source": [
    "print(type(data))\n",
    "# data.info()\n"
   ]
  },
  {
   "cell_type": "code",
   "execution_count": 6,
   "id": "563699b12000ce03",
   "metadata": {
    "ExecuteTime": {
     "end_time": "2023-09-09T19:06:44.725658200Z",
     "start_time": "2023-09-09T19:06:44.682994900Z"
    }
   },
   "outputs": [],
   "source": []
  }
 ],
 "metadata": {
  "kernelspec": {
   "display_name": "Python 3 (ipykernel)",
   "language": "python",
   "name": "python3"
  },
  "language_info": {
   "codemirror_mode": {
    "name": "ipython",
    "version": 3
   },
   "file_extension": ".py",
   "mimetype": "text/x-python",
   "name": "python",
   "nbconvert_exporter": "python",
   "pygments_lexer": "ipython3",
   "version": "3.11.4"
  }
 },
 "nbformat": 4,
 "nbformat_minor": 5
}
