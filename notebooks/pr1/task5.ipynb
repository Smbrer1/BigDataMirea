{
 "cells": [
  {
   "cell_type": "code",
   "execution_count": 13,
   "id": "initial_id",
   "metadata": {
    "collapsed": true,
    "ExecuteTime": {
     "end_time": "2023-09-09T12:19:18.554127Z",
     "start_time": "2023-09-09T12:19:18.543683800Z"
    }
   },
   "outputs": [],
   "source": [
    "def adder(n)-> list[int]:\n",
    "    count = 1\n",
    "    ans = []\n",
    "    while True:\n",
    "        for i in range(count):\n",
    "            if len(ans)<n:\n",
    "                ans.append(count)\n",
    "            else: return ans\n",
    "        count+=1"
   ]
  },
  {
   "cell_type": "code",
   "execution_count": 14,
   "outputs": [
    {
     "name": "stdout",
     "output_type": "stream",
     "text": [
      "1 2 2 3 3 3 4 4 4 4 5\n"
     ]
    }
   ],
   "source": [
    "n = int(input())\n",
    "print(*adder(n))"
   ],
   "metadata": {
    "collapsed": false,
    "ExecuteTime": {
     "end_time": "2023-09-09T12:19:19.411328600Z",
     "start_time": "2023-09-09T12:19:18.550131300Z"
    }
   },
   "id": "ce7637949549b810"
  }
 ],
 "metadata": {
  "kernelspec": {
   "display_name": "Python 3",
   "language": "python",
   "name": "python3"
  },
  "language_info": {
   "codemirror_mode": {
    "name": "ipython",
    "version": 2
   },
   "file_extension": ".py",
   "mimetype": "text/x-python",
   "name": "python",
   "nbconvert_exporter": "python",
   "pygments_lexer": "ipython2",
   "version": "2.7.6"
  }
 },
 "nbformat": 4,
 "nbformat_minor": 5
}
