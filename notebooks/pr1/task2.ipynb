{
 "cells": [
  {
   "cell_type": "code",
   "execution_count": 19,
   "outputs": [],
   "source": [
    "a, b, c = [int(i) for i in input(\"triangle\").split()[0:3]]\n",
    "s1, s2 = [int(i) for i in input(\"rectangle\").split()[0:2]]\n",
    "r = int(input(\"circle\"))\n",
    "answer = {\"triangle\": 0, \"rectangle\": 0, \"circle\": 0}"
   ],
   "metadata": {
    "collapsed": false,
    "ExecuteTime": {
     "end_time": "2023-09-09T11:57:23.256978600Z",
     "start_time": "2023-09-09T11:57:13.149972700Z"
    }
   },
   "id": "c362a0b1c8c9d01"
  },
  {
   "cell_type": "code",
   "execution_count": 20,
   "outputs": [],
   "source": [
    "import math\n",
    "\n",
    "# triangle\n",
    "p = (a + b + c) / 2\n",
    "answer[\"triangle\"] = math.sqrt(p * (p - a) * (p - b) * (p - c))\n",
    "\n",
    "# rectangle\n",
    "answer[\"rectangle\"] = s1 * s2\n",
    "\n",
    "# circle\n",
    "answer[\"circle\"] = math.pi*r*r"
   ],
   "metadata": {
    "collapsed": false,
    "ExecuteTime": {
     "end_time": "2023-09-09T11:57:23.274761300Z",
     "start_time": "2023-09-09T11:57:23.227941300Z"
    }
   },
   "id": "initial_id"
  },
  {
   "cell_type": "code",
   "execution_count": 21,
   "outputs": [
    {
     "name": "stdout",
     "output_type": "stream",
     "text": [
      "{'triangle': 6.0, 'rectangle': 2, 'circle': 3.141592653589793}\n"
     ]
    }
   ],
   "source": [
    "print(answer)"
   ],
   "metadata": {
    "collapsed": false,
    "ExecuteTime": {
     "end_time": "2023-09-09T11:57:23.275932Z",
     "start_time": "2023-09-09T11:57:23.232388900Z"
    }
   },
   "id": "a14a6d282b8bde75"
  }
 ],
 "metadata": {
  "kernelspec": {
   "display_name": "Python 3",
   "language": "python",
   "name": "python3"
  },
  "language_info": {
   "codemirror_mode": {
    "name": "ipython",
    "version": 2
   },
   "file_extension": ".py",
   "mimetype": "text/x-python",
   "name": "python",
   "nbconvert_exporter": "python",
   "pygments_lexer": "ipython2",
   "version": "2.7.6"
  }
 },
 "nbformat": 4,
 "nbformat_minor": 5
}
