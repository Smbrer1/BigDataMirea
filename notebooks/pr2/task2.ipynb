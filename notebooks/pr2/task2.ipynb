{
 "cells": [
  {
   "cell_type": "code",
   "execution_count": 2,
   "id": "initial_id",
   "metadata": {
    "collapsed": true,
    "ExecuteTime": {
     "end_time": "2023-09-17T16:21:28.780747700Z",
     "start_time": "2023-09-17T16:21:27.897747200Z"
    }
   },
   "outputs": [
    {
     "name": "stdout",
     "output_type": "stream",
     "text": [
      "<class 'pandas.core.frame.DataFrame'>\n",
      "RangeIndex: 780 entries, 0 to 779\n",
      "Data columns (total 13 columns):\n",
      " #   Column               Non-Null Count  Dtype \n",
      "---  ------               --------------  ----- \n",
      " 0   Category             780 non-null    object\n",
      " 1   Item                 780 non-null    object\n",
      " 2   Calories             780 non-null    object\n",
      " 3   Total Fat (g)        780 non-null    object\n",
      " 4   Saturated Fat (g)    780 non-null    object\n",
      " 5   Trans Fat (g)        780 non-null    object\n",
      " 6   Cholesterol (mg)     780 non-null    object\n",
      " 7   Sodium (mg)          780 non-null    object\n",
      " 8   Carbs (g)            780 non-null    object\n",
      " 9   Fiber (g)            780 non-null    object\n",
      " 10  Sugars (g)           780 non-null    object\n",
      " 11  Protein (g)          780 non-null    object\n",
      " 12  Weight Watcher Pnts  780 non-null    object\n",
      "dtypes: object(13)\n",
      "memory usage: 79.3+ KB\n"
     ]
    }
   ],
   "source": [
    "import pandas as pd\n",
    "\n",
    "data = pd.read_csv(\"C:\\\\Users\\\\tumak\\\\PycharmProjects\\\\BigDataMirea\\\\datasets\\\\DunkinDonutsNutrition.csv\")\n",
    "data.info()"
   ]
  },
  {
   "cell_type": "code",
   "execution_count": 3,
   "outputs": [
    {
     "data": {
      "text/plain": "           Category                                 Item Calories  \\\n0  Cold Brew Coffee              Cold Brew Coffee, Large        5   \n1  Cold Brew Coffee             Cold Brew Coffee, Medium        5   \n2  Cold Brew Coffee              Cold Brew Coffee, Small        5   \n3  Cold Brew Coffee   Cold Brew Coffee with Cream, Large      120   \n4  Cold Brew Coffee  Cold Brew Coffee with Cream, Medium       90   \n\n  Total Fat (g) Saturated Fat (g) Trans Fat (g) Cholesterol (mg) Sodium (mg)  \\\n0             0                 0             0                0          20   \n1             0                 0             0                0          15   \n2             0                 0             0                0          10   \n3            12                 6             0               35          65   \n4             9               4.5             0               25          45   \n\n  Carbs (g) Fiber (g) Sugars (g) Protein (g) Weight Watcher Pnts  \n0         0         0          0           1                   4  \n1         0         0          0           0                   5  \n2         0         0          0           0                   5  \n3         2         0          2           2                 126  \n4         1         0          1           2                93.5  ",
      "text/html": "<div>\n<style scoped>\n    .dataframe tbody tr th:only-of-type {\n        vertical-align: middle;\n    }\n\n    .dataframe tbody tr th {\n        vertical-align: top;\n    }\n\n    .dataframe thead th {\n        text-align: right;\n    }\n</style>\n<table border=\"1\" class=\"dataframe\">\n  <thead>\n    <tr style=\"text-align: right;\">\n      <th></th>\n      <th>Category</th>\n      <th>Item</th>\n      <th>Calories</th>\n      <th>Total Fat (g)</th>\n      <th>Saturated Fat (g)</th>\n      <th>Trans Fat (g)</th>\n      <th>Cholesterol (mg)</th>\n      <th>Sodium (mg)</th>\n      <th>Carbs (g)</th>\n      <th>Fiber (g)</th>\n      <th>Sugars (g)</th>\n      <th>Protein (g)</th>\n      <th>Weight Watcher Pnts</th>\n    </tr>\n  </thead>\n  <tbody>\n    <tr>\n      <th>0</th>\n      <td>Cold Brew Coffee</td>\n      <td>Cold Brew Coffee, Large</td>\n      <td>5</td>\n      <td>0</td>\n      <td>0</td>\n      <td>0</td>\n      <td>0</td>\n      <td>20</td>\n      <td>0</td>\n      <td>0</td>\n      <td>0</td>\n      <td>1</td>\n      <td>4</td>\n    </tr>\n    <tr>\n      <th>1</th>\n      <td>Cold Brew Coffee</td>\n      <td>Cold Brew Coffee, Medium</td>\n      <td>5</td>\n      <td>0</td>\n      <td>0</td>\n      <td>0</td>\n      <td>0</td>\n      <td>15</td>\n      <td>0</td>\n      <td>0</td>\n      <td>0</td>\n      <td>0</td>\n      <td>5</td>\n    </tr>\n    <tr>\n      <th>2</th>\n      <td>Cold Brew Coffee</td>\n      <td>Cold Brew Coffee, Small</td>\n      <td>5</td>\n      <td>0</td>\n      <td>0</td>\n      <td>0</td>\n      <td>0</td>\n      <td>10</td>\n      <td>0</td>\n      <td>0</td>\n      <td>0</td>\n      <td>0</td>\n      <td>5</td>\n    </tr>\n    <tr>\n      <th>3</th>\n      <td>Cold Brew Coffee</td>\n      <td>Cold Brew Coffee with Cream, Large</td>\n      <td>120</td>\n      <td>12</td>\n      <td>6</td>\n      <td>0</td>\n      <td>35</td>\n      <td>65</td>\n      <td>2</td>\n      <td>0</td>\n      <td>2</td>\n      <td>2</td>\n      <td>126</td>\n    </tr>\n    <tr>\n      <th>4</th>\n      <td>Cold Brew Coffee</td>\n      <td>Cold Brew Coffee with Cream, Medium</td>\n      <td>90</td>\n      <td>9</td>\n      <td>4.5</td>\n      <td>0</td>\n      <td>25</td>\n      <td>45</td>\n      <td>1</td>\n      <td>0</td>\n      <td>1</td>\n      <td>2</td>\n      <td>93.5</td>\n    </tr>\n  </tbody>\n</table>\n</div>"
     },
     "execution_count": 3,
     "metadata": {},
     "output_type": "execute_result"
    }
   ],
   "source": [
    "data.head()"
   ],
   "metadata": {
    "collapsed": false,
    "ExecuteTime": {
     "end_time": "2023-09-17T16:21:28.800081300Z",
     "start_time": "2023-09-17T16:21:28.781748300Z"
    }
   },
   "id": "6a5958c570973b0a"
  },
  {
   "cell_type": "code",
   "execution_count": 4,
   "outputs": [
    {
     "data": {
      "text/plain": "Category               0\nItem                   0\nCalories               0\nTotal Fat (g)          0\nSaturated Fat (g)      0\nTrans Fat (g)          0\nCholesterol (mg)       0\nSodium (mg)            0\nCarbs (g)              0\nFiber (g)              0\nSugars (g)             0\nProtein (g)            0\nWeight Watcher Pnts    0\ndtype: int64"
     },
     "execution_count": 4,
     "metadata": {},
     "output_type": "execute_result"
    }
   ],
   "source": [
    "data.isna().sum()"
   ],
   "metadata": {
    "collapsed": false,
    "ExecuteTime": {
     "end_time": "2023-09-17T16:21:28.880081100Z",
     "start_time": "2023-09-17T16:21:28.803079700Z"
    }
   },
   "id": "d8fb60f78a1081da"
  },
  {
   "cell_type": "code",
   "execution_count": 18,
   "outputs": [
    {
     "data": {
      "text/plain": "                            Item Calories Total Fat (g) Saturated Fat (g)  \\\n0  Nitro Cold Brew Coffee, Small       90             9                 6   \n1  Nitro Cold Brew Coffee, Small       90             9                 6   \n2  Nitro Cold Brew Coffee, Small       90             9                 6   \n3  Nitro Cold Brew Coffee, Small       90             9                 6   \n4  Nitro Cold Brew Coffee, Small       90             9                 6   \n\n  Trans Fat (g) Cholesterol (mg) Sodium (mg) Carbs (g) Fiber (g) Sugars (g)  \\\n0             0               35          65        37         0         36   \n1             0               35          65        37         0         36   \n2             0               35          65        37         0         36   \n3             0               35          65        37         0         36   \n4             0               35          65        37         0         36   \n\n  Protein (g) Weight Watcher Pnts  \n0           2                93.5  \n1           2                93.5  \n2           2                93.5  \n3           2                93.5  \n4           2                93.5  ",
      "text/html": "<div>\n<style scoped>\n    .dataframe tbody tr th:only-of-type {\n        vertical-align: middle;\n    }\n\n    .dataframe tbody tr th {\n        vertical-align: top;\n    }\n\n    .dataframe thead th {\n        text-align: right;\n    }\n</style>\n<table border=\"1\" class=\"dataframe\">\n  <thead>\n    <tr style=\"text-align: right;\">\n      <th></th>\n      <th>Item</th>\n      <th>Calories</th>\n      <th>Total Fat (g)</th>\n      <th>Saturated Fat (g)</th>\n      <th>Trans Fat (g)</th>\n      <th>Cholesterol (mg)</th>\n      <th>Sodium (mg)</th>\n      <th>Carbs (g)</th>\n      <th>Fiber (g)</th>\n      <th>Sugars (g)</th>\n      <th>Protein (g)</th>\n      <th>Weight Watcher Pnts</th>\n    </tr>\n  </thead>\n  <tbody>\n    <tr>\n      <th>0</th>\n      <td>Nitro Cold Brew Coffee, Small</td>\n      <td>90</td>\n      <td>9</td>\n      <td>6</td>\n      <td>0</td>\n      <td>35</td>\n      <td>65</td>\n      <td>37</td>\n      <td>0</td>\n      <td>36</td>\n      <td>2</td>\n      <td>93.5</td>\n    </tr>\n    <tr>\n      <th>1</th>\n      <td>Nitro Cold Brew Coffee, Small</td>\n      <td>90</td>\n      <td>9</td>\n      <td>6</td>\n      <td>0</td>\n      <td>35</td>\n      <td>65</td>\n      <td>37</td>\n      <td>0</td>\n      <td>36</td>\n      <td>2</td>\n      <td>93.5</td>\n    </tr>\n    <tr>\n      <th>2</th>\n      <td>Nitro Cold Brew Coffee, Small</td>\n      <td>90</td>\n      <td>9</td>\n      <td>6</td>\n      <td>0</td>\n      <td>35</td>\n      <td>65</td>\n      <td>37</td>\n      <td>0</td>\n      <td>36</td>\n      <td>2</td>\n      <td>93.5</td>\n    </tr>\n    <tr>\n      <th>3</th>\n      <td>Nitro Cold Brew Coffee, Small</td>\n      <td>90</td>\n      <td>9</td>\n      <td>6</td>\n      <td>0</td>\n      <td>35</td>\n      <td>65</td>\n      <td>37</td>\n      <td>0</td>\n      <td>36</td>\n      <td>2</td>\n      <td>93.5</td>\n    </tr>\n    <tr>\n      <th>4</th>\n      <td>Nitro Cold Brew Coffee, Small</td>\n      <td>90</td>\n      <td>9</td>\n      <td>6</td>\n      <td>0</td>\n      <td>35</td>\n      <td>65</td>\n      <td>37</td>\n      <td>0</td>\n      <td>36</td>\n      <td>2</td>\n      <td>93.5</td>\n    </tr>\n  </tbody>\n</table>\n</div>"
     },
     "execution_count": 18,
     "metadata": {},
     "output_type": "execute_result"
    }
   ],
   "source": [
    "data.groupby(\"Category\").transform(lambda i: max(i)).head()"
   ],
   "metadata": {
    "collapsed": false,
    "ExecuteTime": {
     "end_time": "2023-09-17T16:35:02.131184100Z",
     "start_time": "2023-09-17T16:35:02.081664700Z"
    }
   },
   "id": "5aa0925cdf14eaa0"
  },
  {
   "cell_type": "code",
   "execution_count": 5,
   "outputs": [],
   "source": [],
   "metadata": {
    "collapsed": false,
    "ExecuteTime": {
     "end_time": "2023-09-17T16:21:28.881079800Z",
     "start_time": "2023-09-17T16:21:28.829088300Z"
    }
   },
   "id": "dd261866107a42f6"
  }
 ],
 "metadata": {
  "kernelspec": {
   "display_name": "Python 3",
   "language": "python",
   "name": "python3"
  },
  "language_info": {
   "codemirror_mode": {
    "name": "ipython",
    "version": 2
   },
   "file_extension": ".py",
   "mimetype": "text/x-python",
   "name": "python",
   "nbconvert_exporter": "python",
   "pygments_lexer": "ipython2",
   "version": "2.7.6"
  }
 },
 "nbformat": 4,
 "nbformat_minor": 5
}
