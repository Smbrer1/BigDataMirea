{
 "cells": [
  {
   "cell_type": "code",
   "execution_count": null,
   "id": "initial_id",
   "metadata": {
    "is_executing": true
   },
   "outputs": [],
   "source": [
    "from sklearn.manifold import TSNE\n",
    "import matplotlib.pyplot as plt\n",
    "import numpy as np\n",
    "import pandas as pd\n",
    "import seaborn as sns\n",
    "import umap as umap\n",
    "import umap.plot as uplt\n",
    "from sklearn import preprocessing\n",
    "\n",
    "data = pd.read_csv(\"C:\\\\Users\\\\tumak\\\\PycharmProjects\\\\BigDataMirea\\\\datasets\\\\archive\\\\fashion-mnist_train.csv\")\n",
    "\n",
    "data"
   ]
  },
  {
   "cell_type": "code",
   "execution_count": null,
   "id": "ec7598713149cc56",
   "metadata": {
    "is_executing": true
   },
   "outputs": [],
   "source": [
    "scaler = preprocessing.MinMaxScaler()\n",
    "d = data.drop(['label'], axis=1)\n",
    "D = pd.DataFrame(scaler.fit_transform(d), columns=d.columns)\n",
    "D"
   ]
  },
  {
   "cell_type": "code",
   "execution_count": null,
   "id": "fd05bedc5523f5de",
   "metadata": {
    "is_executing": true
   },
   "outputs": [],
   "source": [
    "n_neighbors = (5,25,50)\n",
    "min_dist = (0.1,0.6)"
   ]
  },
  {
   "cell_type": "code",
   "execution_count": null,
   "id": "f34a8ec0541cd7f2",
   "metadata": {
    "is_executing": true
   },
   "outputs": [],
   "source": [
    "um1 = dict()\n",
    "DATA = D.copy()\n",
    "for i in range(len(n_neighbors)):\n",
    "    for j in range(len(min_dist)):\n",
    "        um1[(n_neighbors[i], min_dist[j])] = (umap.UMAP(n_neighbors=n_neighbors[i], min_dist=min_dist[j], random_state=123)).fit(DATA)\n"
   ]
  },
  {
   "cell_type": "code",
   "execution_count": null,
   "id": "ee4240e9d47c3fde",
   "metadata": {
    "is_executing": true
   },
   "outputs": [],
   "source": [
    "n_neighbors = (7,35,70)\n",
    "min_dist = (0.1,0.6)\n",
    "\n",
    "um2 = dict()\n",
    "DATA = D.copy()\n",
    "for i in range(len(n_neighbors)):\n",
    "    for j in range(len(min_dist)):\n",
    "        um2[(n_neighbors[i], min_dist[j])] = (umap.UMAP(n_neighbors=n_neighbors[i], min_dist=min_dist[j], random_state=123).fit(DATA))\n"
   ]
  },
  {
   "cell_type": "code",
   "execution_count": null,
   "id": "807759d6e173af8d",
   "metadata": {
    "is_executing": true
   },
   "outputs": [],
   "source": [
    "n_neighbors = (1,5,10)\n",
    "min_dist = (0.5,1.0)\n",
    "    \n",
    "um3 = dict()\n",
    "DATA = D.copy()\n",
    "for i in range(len(n_neighbors)):\n",
    "    for j in range(len(min_dist)):\n",
    "        um3[(n_neighbors[i], min_dist[j])] = (umap.UMAP(n_neighbors=n_neighbors[i], min_dist=min_dist[j], random_state=123).fit(DATA))\n"
   ]
  },
  {
   "cell_type": "code",
   "execution_count": null,
   "id": "6d248f92",
   "metadata": {
    "is_executing": true
   },
   "outputs": [],
   "source": [
    "for item in um1.items():\n",
    "    print(item))\n",
    "    uplt.points(item)"
   ]
  },
  {
   "cell_type": "code",
   "execution_count": null,
   "id": "c4e8a7b4",
   "metadata": {
    "is_executing": true
   },
   "outputs": [],
   "source": []
  }
 ],
 "metadata": {
  "kernelspec": {
   "display_name": "Python 3 (ipykernel)",
   "language": "python",
   "name": "python3"
  },
  "language_info": {
   "codemirror_mode": {
    "name": "ipython",
    "version": 3
   },
   "file_extension": ".py",
   "mimetype": "text/x-python",
   "name": "python",
   "nbconvert_exporter": "python",
   "pygments_lexer": "ipython3",
   "version": "3.11.4"
  }
 },
 "nbformat": 4,
 "nbformat_minor": 5
}
