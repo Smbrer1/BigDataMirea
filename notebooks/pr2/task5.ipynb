{
 "cells": [
  {
   "cell_type": "code",
   "execution_count": null,
   "outputs": [],
   "source": [
    "import matplotlib.pyplot as plt\n",
    "import numpy as np\n",
    "import pandas as pd\n",
    "\n",
    "data = pd.read_csv(\n",
    "    \"C:\\\\Users\\\\mrtem\\\\PycharmProjects\\\\testingProjects\\\\BigDataProject\\\\DataSets\\\\cleaned_all_phones.csv\")\n",
    "fig = plt.figure()\n",
    "\n",
    "# plt.plot(data[\"video_60fps\"], data[\"video_240fps\"])\n",
    "# plt.show()\n",
    "# print(data)\n",
    "apple_data = data[data['brand'] == 'Apple']\n",
    "samsung_data = data[data['brand'] == 'Samsung']\n",
    "huawei_data = data[data['brand'] == 'Huawei']\n",
    "apple_data['announcement_year'] = [i.split('-')[0] for i in apple_data['announcement_date']]\n",
    "huawei_data['announcement_year'] = [i.split('-')[0] for i in huawei_data['announcement_date']]\n",
    "samsung_data['announcement_year'] = [i.split('-')[0] for i in samsung_data['announcement_date']]\n",
    "_apple_data = apple_data.groupby('announcement_year').agg({'price(USD)': 'max'}).reset_index()\n",
    "_samsung_data = samsung_data.groupby('announcement_year').agg({'price(USD)': 'max'}).reset_index()\n",
    "_huawei_data = huawei_data.groupby('announcement_year').agg({'price(USD)': 'max'}).reset_index()\n",
    "fig, (ax1, ax2, ax3) = plt.subplots(1, 3, figsize=(25, 5))\n",
    "# Create scatter plot\n",
    "ax1.plot(_huawei_data['announcement_year'],\n",
    "         _huawei_data['price(USD)'],\n",
    "         mfc='black',\n",
    "         mec='white',\n",
    "         mew=2,\n",
    "         marker='o',\n",
    "         markersize=12,\n",
    "         color='crimson')\n",
    "ax1.set_title('Huawei prices by year')\n",
    "ax1.grid(linewidth=2, color='mistyrose')\n",
    "ax2.plot(_apple_data['announcement_year'],\n",
    "         _apple_data['price(USD)'],\n",
    "         mfc='black',\n",
    "         mec='white',\n",
    "         mew=2,\n",
    "         marker='o',\n",
    "         markersize=12,\n",
    "         color='crimson')\n",
    "ax2.set_title('Apple prices by year')\n",
    "ax2.grid(linewidth=2, color='mistyrose')\n",
    "ax3.plot(_samsung_data['announcement_year'],\n",
    "         _samsung_data['price(USD)'],\n",
    "         mfc='black',\n",
    "         mec='white',\n",
    "         mew=2,\n",
    "         marker='o',\n",
    "         markersize=12,\n",
    "         color='crimson')\n",
    "ax3.set_title('Samsung prices by year')\n",
    "ax3.grid(linewidth=2, color='mistyrose')\n",
    "plt.show()"
   ],
   "metadata": {
    "collapsed": false
   },
   "id": "9bfc58b54b02179c"
  }
 ],
 "metadata": {
  "kernelspec": {
   "display_name": "Python 3 (ipykernel)",
   "language": "python",
   "name": "python3"
  },
  "language_info": {
   "codemirror_mode": {
    "name": "ipython",
    "version": 3
   },
   "file_extension": ".py",
   "mimetype": "text/x-python",
   "name": "python",
   "nbconvert_exporter": "python",
   "pygments_lexer": "ipython3",
   "version": "3.11.4"
  }
 },
 "nbformat": 4,
 "nbformat_minor": 5
}
