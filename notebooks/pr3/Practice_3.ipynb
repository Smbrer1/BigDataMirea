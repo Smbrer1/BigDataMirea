{
 "cells": [
  {
   "cell_type": "markdown",
   "id": "5da36c6b",
   "metadata": {},
   "source": [
    "# Практика 3"
   ]
  },
  {
   "cell_type": "markdown",
   "id": "b10ee4d9",
   "metadata": {},
   "source": [
    "## Статистика на Python"
   ]
  },
  {
   "cell_type": "markdown",
   "id": "cb83a2b1",
   "metadata": {},
   "source": [
    "### 1. Загрузить данные из файла “insurance.csv”"
   ]
  },
  {
   "cell_type": "code",
   "execution_count": 1,
   "id": "9ad4ef5f",
   "metadata": {
    "ExecuteTime": {
     "end_time": "2023-10-16T20:53:53.565846747Z",
     "start_time": "2023-10-16T20:53:53.353786078Z"
    }
   },
   "outputs": [
    {
     "ename": "ModuleNotFoundError",
     "evalue": "No module named 'pandas'",
     "output_type": "error",
     "traceback": [
      "\u001B[0;31m---------------------------------------------------------------------------\u001B[0m",
      "\u001B[0;31mModuleNotFoundError\u001B[0m                       Traceback (most recent call last)",
      "Cell \u001B[0;32mIn[1], line 1\u001B[0m\n\u001B[0;32m----> 1\u001B[0m \u001B[38;5;28;01mimport\u001B[39;00m \u001B[38;5;21;01mpandas\u001B[39;00m \u001B[38;5;28;01mas\u001B[39;00m \u001B[38;5;21;01mpd\u001B[39;00m\n\u001B[1;32m      4\u001B[0m data \u001B[38;5;241m=\u001B[39m pd\u001B[38;5;241m.\u001B[39mread_csv(\u001B[38;5;124m\"\u001B[39m\u001B[38;5;124mC:\u001B[39m\u001B[38;5;130;01m\\\\\u001B[39;00m\u001B[38;5;124mUsers\u001B[39m\u001B[38;5;130;01m\\\\\u001B[39;00m\u001B[38;5;124mgrman\u001B[39m\u001B[38;5;130;01m\\\\\u001B[39;00m\u001B[38;5;124mDocuments\u001B[39m\u001B[38;5;130;01m\\\\\u001B[39;00m\u001B[38;5;124mBigPapa\u001B[39m\u001B[38;5;130;01m\\\\\u001B[39;00m\u001B[38;5;124mGreg\u001B[39m\u001B[38;5;130;01m\\\\\u001B[39;00m\u001B[38;5;124mBigData\u001B[39m\u001B[38;5;130;01m\\\\\u001B[39;00m\u001B[38;5;124mDataSet\u001B[39m\u001B[38;5;130;01m\\\\\u001B[39;00m\u001B[38;5;124mpr3\u001B[39m\u001B[38;5;130;01m\\\\\u001B[39;00m\u001B[38;5;124minsurance.csv\u001B[39m\u001B[38;5;124m\"\u001B[39m)\n",
      "\u001B[0;31mModuleNotFoundError\u001B[0m: No module named 'pandas'"
     ]
    }
   ],
   "source": [
    "import pandas as pd\n",
    "\n",
    "\n",
    "data = pd.read_csv(\"C:\\\\Users\\\\grman\\\\Documents\\\\BigPapa\\\\Greg\\\\BigData\\\\DataSet\\\\pr3\\\\insurance.csv\")"
   ]
  },
  {
   "cell_type": "markdown",
   "id": "ae93356d",
   "metadata": {},
   "source": [
    "### 2. С помощью метода describe() посмотреть статистику по данным. Сделать выводы."
   ]
  },
  {
   "cell_type": "code",
   "execution_count": null,
   "id": "889ac88a",
   "metadata": {
    "ExecuteTime": {
     "start_time": "2023-10-16T20:53:53.361337462Z"
    }
   },
   "outputs": [],
   "source": [
    "data.describe()"
   ]
  },
  {
   "cell_type": "markdown",
   "id": "e67f773a",
   "metadata": {},
   "source": [
    "**Видно, что:**\n",
    "- **Непустых значений в каждом из столбцов одинаковое количество - 1338**\n",
    "- **Средний возраст - 39.2, возраст людей находится в диапазоне от 18 до 64 лет (минимальный возраст - 18, максимальный - 64).**\n",
    "- **Средний индекс массы тела (bmi) - 30.7, ИМТ людей в значениях от 16 до 53.1.**\n",
    "- **Количество детей находится в диапазоне от 0 до 5, в среднем - 1.1.**\n",
    "- **В страховых выплатах среднее значение - 13270.4. Максимальное - 63к, минимальное - 1к. Максимальное значение сильно больше среднего значения.**"
   ]
  },
  {
   "cell_type": "markdown",
   "id": "ec8b205a",
   "metadata": {},
   "source": [
    "### 3. Построить гистограммы для числовых показателей. Сделать выводы."
   ]
  },
  {
   "cell_type": "code",
   "execution_count": null,
   "id": "117c1fc2",
   "metadata": {
    "ExecuteTime": {
     "start_time": "2023-10-16T20:53:53.361822437Z"
    }
   },
   "outputs": [],
   "source": [
    "#используя pandas:\n",
    "import matplotlib.pyplot as plt\n",
    "\n",
    "\n",
    "data.hist(color='red', edgecolor='black') #гистограмма (график распределения) из pandas\n",
    "plt.show()\n"
   ]
  },
  {
   "cell_type": "markdown",
   "id": "4241ab2b",
   "metadata": {},
   "source": [
    "**У всего датафрейма 7 столбцов, 3 из которых нас не интересуют: 'sex', 'smoker' и 'region', так как не относятся к числовым**"
   ]
  },
  {
   "cell_type": "code",
   "execution_count": null,
   "id": "f9c632c1",
   "metadata": {
    "ExecuteTime": {
     "start_time": "2023-10-16T20:53:53.362092054Z"
    }
   },
   "outputs": [],
   "source": [
    "#теперь построим гистограммы, используя библиотеку seaborn:\n",
    "import seaborn as sns\n",
    "\n",
    "\n",
    "fig, axs = plt.subplots(nrows=2, ncols=2, figsize=(14, 7))\n",
    "\n",
    "for i, j in enumerate(data.drop(['sex', 'smoker', 'region'], axis=1).columns):\n",
    "    sns.histplot(data[j], kde=True, ax=axs[i//2, i%2], color='green') #так как axs - двумерный массив, то необходимо правильно найти индекс.\n"
   ]
  },
  {
   "cell_type": "markdown",
   "id": "ceb68e02",
   "metadata": {},
   "source": [
    "**Из построенных гистограмм видно, что:**\n",
    "- **В колонке 'age' значение 20 встречается чаще других**\n",
    "- **В колонке 'children' довольно мало значений 4 и 5**\n",
    "- **В колонке 'charges' в основном встречаются значения до 15,000**\n",
    "- **В колонке 'bmi' хорошее распределение значений**"
   ]
  },
  {
   "cell_type": "markdown",
   "id": "fa4aaa1d",
   "metadata": {},
   "source": [
    "### 4. Найти меры центральной тенденции и меры разброса для индекса массы тела (bmi) и расходов (charges). \n",
    "- ### Отобразить результаты в виде текста и на гистограммах (3 вертикальные линии). \n",
    "- ### Добавить легенду на графики. \n",
    "- ### Сделать выводы."
   ]
  },
  {
   "cell_type": "markdown",
   "id": "61988ecf",
   "metadata": {},
   "source": [
    "**Меры центральной тенденции:**"
   ]
  },
  {
   "cell_type": "code",
   "execution_count": null,
   "id": "ead676be",
   "metadata": {
    "ExecuteTime": {
     "start_time": "2023-10-16T20:53:53.363177970Z"
    }
   },
   "outputs": [],
   "source": [
    "import numpy as np\n",
    "import scipy.stats as sts\n",
    "\n",
    "\n",
    "#для bmi:\n",
    "moda_bmi = sts.mode(data['bmi'], keepdims=False)\n",
    "mean_bmi = np.mean(data['bmi'])\n",
    "med_bmi = np.median(data['bmi'])\n",
    "print(f\"Для bmi:\\nМода: {moda_bmi}\\nСреднее значение: {round(mean_bmi, 2)}\\nМедиана: {med_bmi}\", end='\\n\\n')\n",
    "\n",
    "#для charges:\n",
    "moda_charges = sts.mode(data['charges'], keepdims=False)\n",
    "mean_charges = np.mean(data['charges'])\n",
    "med_charges = np.median(data['charges'])\n",
    "print(f\"Для charges:\\nМода: {moda_charges}\\nСреднее значение: {round(mean_charges, 2)}\\nМедиана: {med_charges}\")\n"
   ]
  },
  {
   "cell_type": "markdown",
   "id": "4b562c9a",
   "metadata": {},
   "source": [
    "**Меры разброса (изменчивости):**"
   ]
  },
  {
   "cell_type": "code",
   "execution_count": null,
   "id": "438d6d97",
   "metadata": {
    "ExecuteTime": {
     "start_time": "2023-10-16T20:53:53.363501486Z"
    }
   },
   "outputs": [],
   "source": [
    "razmah_bmi = data['bmi'].max() - data['bmi'].min() #размах\n",
    "std_bmi = data['bmi'].std() #стандартное отклонение\n",
    "iqr_bmi = sts.iqr(data['bmi'], interpolation='midpoint') #межквартильный размах (IQR)\n",
    "print(f\"Для bmi:\\nРазмах: {razmah_bmi}\\nСтандартное отклонение: {round(std_bmi, 2)}\\nМежквартильный размах: {round(iqr_bmi, 2)}\", end='\\n\\n')\n",
    "\n",
    "razmah_charges = data['charges'].max() - data['charges'].min()\n",
    "std_charges = data['charges'].std()\n",
    "iqr_charges = sts.iqr(data['charges'], interpolation='midpoint')\n",
    "print(f\"Для charges:\\nРазмах: {round(razmah_charges, 2)}\\nСтандартное отклонение: {round(std_charges, 2)}\\nМежквартильный размах: {round(iqr_charges, 2)}\", end='\\n\\n')\n"
   ]
  },
  {
   "cell_type": "code",
   "execution_count": null,
   "id": "5fa81d92",
   "metadata": {
    "ExecuteTime": {
     "start_time": "2023-10-16T20:53:53.363787948Z"
    }
   },
   "outputs": [],
   "source": [
    "#теперь построим гистограммы, используя библиотеку seaborn:\n",
    "\n",
    "\n",
    "fig, axs = plt.subplots(nrows=2, ncols=2, figsize=(14, 7))\n",
    "\n",
    "for i, j in enumerate(data.drop(['sex', 'smoker', 'region'], axis=1).columns):\n",
    "    sns.histplot(data[j], kde=True, ax=axs[i//2, i%2], color='green') #так как axs - двумерный массив, то необходимо правильно найти индекс.\n",
    "\n",
    "m_c_t = ['Мода', 'Среднее', 'Медиана']\n",
    "colors = ['red', 'blue', 'yellow']\n",
    "s = 0\n",
    "for k in [moda_bmi[0], mean_bmi, med_bmi]:\n",
    "    axs[0, 1].axvline(x=k, color=colors[s], label=f'{m_c_t[s]}')\n",
    "    s += 1\n",
    "    axs[0, 1].legend()\n",
    "\n",
    "s = 0\n",
    "for k in [moda_charges[0], mean_charges, med_charges]:\n",
    "    axs[1, 1].axvline(x=k, color=colors[s], label=f'{m_c_t[s]}')\n",
    "    s += 1\n",
    "    axs[1, 1].legend()\n",
    "    "
   ]
  },
  {
   "cell_type": "code",
   "execution_count": null,
   "id": "bdbbc7e1",
   "metadata": {
    "ExecuteTime": {
     "start_time": "2023-10-16T20:53:53.363941940Z"
    }
   },
   "outputs": [],
   "source": [
    "fig, axs = plt.subplots(nrows=2, ncols=2, figsize=(14, 7))\n",
    "\n",
    "for i, j in enumerate(data.drop(['sex', 'smoker', 'region'], axis=1).columns):\n",
    "    sns.histplot(data[j], kde=True, ax=axs[i//2, i%2], color='green') #так как axs - двумерный массив, то необходимо правильно найти индекс.\n",
    "\n",
    "m_c_i = ['Размах', 'Стандартное отклонение', 'Межквартильный размах']\n",
    "colors = ['red', 'blue', 'yellow']\n",
    "s = 0\n",
    "for k in [razmah_bmi, std_bmi, iqr_bmi]:\n",
    "    axs[0, 1].axvline(x=k, color=colors[s], label=f'{m_c_i[s]}')\n",
    "    s += 1\n",
    "    axs[0, 1].legend()\n",
    "\n",
    "s = 0\n",
    "for k in [razmah_charges, std_charges, iqr_charges]:\n",
    "    axs[1, 1].axvline(x=k, color=colors[s], label=f'{m_c_i[s]}')\n",
    "    s += 1\n",
    "    axs[1, 1].legend()\n",
    "    "
   ]
  },
  {
   "cell_type": "markdown",
   "id": "924672a2",
   "metadata": {},
   "source": [
    "**На графиках видно, что:**\n",
    "- **Меры центральной тенденции для столбца bmi находятся примерно в одном значении, что нельзя сказать про charges**\n",
    "- **Размах (разница между максимальным значением и минимальным) для bmi и charges сильно разнится с стандартным отклонением и межквартильным размахом. Для bmi стандартное отклонение отличается от межквартильного размаха сильнее, чем это происходит у столбца charges**"
   ]
  },
  {
   "cell_type": "markdown",
   "id": "62e65d2f",
   "metadata": {},
   "source": [
    "### 5. Построить box-plot для числовых показателей. Названия графиков должны соответствовать названиям признаков. Сделать выводы."
   ]
  },
  {
   "cell_type": "code",
   "execution_count": null,
   "id": "8d98896e",
   "metadata": {
    "ExecuteTime": {
     "start_time": "2023-10-16T20:53:53.364109892Z"
    }
   },
   "outputs": [],
   "source": [
    "plt.figure()\n",
    "plt.boxplot([data['bmi'], data['age']], labels=['bmi', 'age'], vert=False)\n",
    "plt.grid()\n",
    "plt.show()"
   ]
  },
  {
   "cell_type": "markdown",
   "id": "df2353f5",
   "metadata": {},
   "source": [
    "**Среди значений в столбце с возрастом нет выбросов, в отличие от столбца с индексом массы тела. Графики показывают медиану (оранжевая вертикальная линия посередине коробки), внутри коробки 50% значений каждого из столбцов, на усах - остальные 50% значений (за исключением выбросов, они находятся за пределами усов)**"
   ]
  },
  {
   "cell_type": "markdown",
   "id": "48089250",
   "metadata": {},
   "source": [
    "### 6. Используя признак charges или bmi, проверить, выполняется ли центральная предельная теорема. Использовать различные длины выборок n. Количество выборок = 300. Вывести результат в виде гистограмм. Найти стандартное отклонение и среднее для полученных распределений. Сделать выводы."
   ]
  },
  {
   "cell_type": "markdown",
   "id": "8a9e270b",
   "metadata": {},
   "source": [
    "**Нужно взять разные размеры выборок (так как записей всего 1338, то возьмем 10, 100, 250, 900) и будем 300 раз для каждого размера выборок проверять, выполняется ли центральная предельная теорема**"
   ]
  },
  {
   "cell_type": "code",
   "execution_count": null,
   "id": "dc3113a0",
   "metadata": {
    "ExecuteTime": {
     "start_time": "2023-10-16T20:53:53.364249781Z"
    }
   },
   "outputs": [],
   "source": [
    "n = (10, 100, 250, 900) #длины выборок (сколько значений из генеральной совокупности берем)\n",
    "\n",
    "plt.figure(figsize=(10, 7))\n",
    "for i in range(len(n)):\n",
    "    means = []\n",
    "    for j in range(1, 301):\n",
    "        selection = data['bmi'].sample(n[i]) #выборка (определенной длины)\n",
    "        mean_selection = selection.mean() #берем среднее значение для этой выборки\n",
    "        means.append(mean_selection) #добавляем в список это среднее, чтобы отразить распределение этих средних выборки определенной длины на гистограмме\n",
    "    plt.subplot(2, 2, i + 1)\n",
    "    sns.histplot(means, kde=True, color = 'green')\n",
    "    plt.title(f'Распределение при длине выборки = {n[i]}')\n",
    "    plt.tight_layout() #расстояние между графиками\n",
    "    print(f'Распределение при длине выборки = {n[i]}: ст. отклонение = {round(np.std(means), 2)}, среднее = {round(np.mean(means), 2)}')\n",
    "    "
   ]
  },
  {
   "cell_type": "markdown",
   "id": "f6269e6a",
   "metadata": {},
   "source": [
    "**Была проверена центральная предельная теорема: среднее значение при каждом распределении выборочных средних разных длин при увеличнеии длины выборки начинает стремиться к среднему значению глобальной совокупности. Также можно заметить, что при увеличении длин выборок, стандартное отклонение начинает стремиться к нулевому значению, что опять же подтверждает центральную предельную теорему.**"
   ]
  },
  {
   "cell_type": "markdown",
   "id": "cbf64b91",
   "metadata": {},
   "source": [
    "### 7. Построить 95% и 99% доверительный интервал для среднего значения расходов и среднего значения индекса массы тела."
   ]
  },
  {
   "cell_type": "markdown",
   "id": "b53714ad",
   "metadata": {},
   "source": [
    "**Для расчета доверительного интервала нужно множество раз извлечь из генеральной совокупности выборки длины n и затем для каждой выборки рассчитать среднее значение и свой доверительный интервал.**\n",
    "\n",
    "**95% доверительный интервал:**\n",
    "- **Для нижней границы: x - 1.96 SE**\n",
    "- **Для верхней границы: x + 1.96 SE**\n",
    "\n",
    "**99% доверительный интервал:**\n",
    "- **Для нижней границы: x - 2.58 SE**\n",
    "- **Для верхней границы: x + 2.58 SE**\n",
    "\n",
    "**Где x - среднее выборки, а SE(стандартная ошибка среднего) - sd(стандартное отклонение выборки)/sqrt(n), n - длина выборки**"
   ]
  },
  {
   "cell_type": "code",
   "execution_count": null,
   "id": "21aa5be4",
   "metadata": {
    "ExecuteTime": {
     "start_time": "2023-10-16T20:53:53.364570214Z"
    }
   },
   "outputs": [],
   "source": [
    "from math import sqrt\n",
    "\n",
    "\n",
    "n = (75, 750) #длины выборок (сколько значений из генеральной совокупности берем)\n",
    "\n",
    "def confidence_interval(column: str)->None:\n",
    "    for i in range(len(n)):\n",
    "        x = []\n",
    "        for j in range(1, 301):\n",
    "            selection = data[column].sample(n[i]) #выборка (определенной длины)\n",
    "            mean_selection = selection.mean() #берем среднее значение для этой выборки\n",
    "            x.append(mean_selection) #добавляем в список это среднее, чтобы отразить распределение этих средних выборки определенной длины на гистограмме\n",
    "        mean_x = round(np.mean(x), 3)\n",
    "        std_x = round(np.std(x), 3)\n",
    "        se = round(std_x/sqrt(n[i]), 3)\n",
    "        print(f'Выборка колонки {column}, длина выборки = {n[i]}')\n",
    "        print(f'x(среднее выборки) = {mean_x}, sd(ст. отклонение) = {std_x}, SE = {se}')\n",
    "        print(f'95% доверительный интервал [{round(mean_x - 1.96 * se, 3)}, {round(mean_x + 1.96 * se, 3)}]')\n",
    "        print(f'99% доверительный интервал [{round(mean_x - 2.58 * se, 3)}, {round(mean_x + 2.58 * se, 3)}]')\n",
    "        print()\n",
    "        \n",
    "        \n",
    "confidence_interval('bmi')\n",
    "confidence_interval('charges')"
   ]
  },
  {
   "cell_type": "markdown",
   "id": "cb705555",
   "metadata": {},
   "source": [
    "### 8. Проверить распределения следующих признаков на нормальность: индекс массы тела, расходы. Сформулировать нулевую и альтернативную гипотезы. Для каждого признака использовать KS-тест и q-q plot. Сделать выводы на основе полученных p-значений."
   ]
  },
  {
   "cell_type": "markdown",
   "id": "365db4cf",
   "metadata": {},
   "source": [
    "**Нулевая гипотеза: распределение индекса массы тела и расходов является нормальным**\n",
    "\n",
    "**Альтернативная гипотеза: распределение индекса массы тела и расходов не является нормальным**"
   ]
  },
  {
   "cell_type": "code",
   "execution_count": null,
   "id": "ca3caf33",
   "metadata": {
    "ExecuteTime": {
     "start_time": "2023-10-16T20:53:53.365065340Z"
    }
   },
   "outputs": [],
   "source": [
    "#Тест Колмогорова-Смирнова (KS-тест):\n",
    "from sklearn import preprocessing\n",
    "\n",
    "\n",
    "scaler = preprocessing.StandardScaler()\n",
    "selection = data['bmi'].sample(500)\n",
    "selection=pd.DataFrame(scaler.fit_transform(selection.values.reshape(-1, 1)))\n",
    "selection = selection.values.flatten()\n",
    "test_sk = sts.kstest(selection, 'norm')\n",
    "print(test_sk)\n",
    "\n",
    "scaler = preprocessing.StandardScaler()\n",
    "selection = data['charges'].sample(500)\n",
    "selection=pd.DataFrame(scaler.fit_transform(selection.values.reshape(-1, 1)))\n",
    "selection = selection.values.flatten()\n",
    "test_sk = sts.kstest(selection, 'norm')\n",
    "print(test_sk)"
   ]
  },
  {
   "cell_type": "code",
   "execution_count": null,
   "id": "ddf4e097",
   "metadata": {
    "ExecuteTime": {
     "start_time": "2023-10-16T20:53:53.365307943Z"
    }
   },
   "outputs": [],
   "source": [
    "#Q-Q plot:\n",
    "f_1 = sns.jointplot(x=np.random.normal(0, 1, 500), y=data['bmi'].sample(500), \n",
    "                    kind='reg', truncate=True, height=5, ratio=2, \n",
    "                    scatter_kws={\"s\": 10,}, line_kws={'lw': 1, 'color': 'black'})\n",
    "f_2 = sns.jointplot(x=np.random.normal(0, 1, 500), y=data['charges'].sample(500), \n",
    "                    kind='reg', truncate=True, height=5, ratio=2, \n",
    "                    scatter_kws={\"s\": 10,}, line_kws={'lw': 1, 'color': 'black'})"
   ]
  },
  {
   "cell_type": "markdown",
   "id": "4e21cef0",
   "metadata": {},
   "source": [
    "**Нулевая гипотеза выполняется, так как:**\n",
    "- **pvalue для выборки из столбцов bmi и charges больше 0.05, а это означает то, что данные подчиняются нормальному распределению**\n",
    "- **Меры центральной тенденции (медиана, мода, среднее) в обоих генеральных совокупностях не имеют одного значения,  это одно доказательство не подчинения нормальному распределению**\n",
    "- **На графиках, построенных при помощи Q-Q plot видно, что данные имеют нормального распределения**"
   ]
  },
  {
   "cell_type": "markdown",
   "id": "06248a6a",
   "metadata": {},
   "source": [
    "### 9. Загрузить данные из файла “ECDCCases.csv”."
   ]
  },
  {
   "cell_type": "code",
   "execution_count": null,
   "id": "7dd6b15e",
   "metadata": {
    "ExecuteTime": {
     "start_time": "2023-10-16T20:53:53.365514338Z"
    }
   },
   "outputs": [],
   "source": [
    "data_cases = pd.read_csv('ECDCCases.csv')"
   ]
  },
  {
   "cell_type": "code",
   "execution_count": null,
   "id": "9592423a",
   "metadata": {
    "ExecuteTime": {
     "start_time": "2023-10-16T20:53:53.411696613Z"
    }
   },
   "outputs": [],
   "source": [
    "data_cases.drop(['Cumulative_number_for_14_days_of_COVID-19_cases_per_100000', 'geoId'], axis=1, inplace=True)"
   ]
  },
  {
   "cell_type": "code",
   "execution_count": null,
   "id": "55b26757",
   "metadata": {
    "ExecuteTime": {
     "start_time": "2023-10-16T20:53:53.412298019Z"
    }
   },
   "outputs": [],
   "source": [
    "data_cases['countryterritoryCode'].fillna('other', inplace=True) #заполнение категориального признака\n",
    "data_cases['popData2019'].fillna(data_cases['popData2019'].median(), inplace=True) #заполнение числового признака"
   ]
  },
  {
   "cell_type": "code",
   "execution_count": null,
   "id": "4fe764ef",
   "metadata": {
    "ExecuteTime": {
     "start_time": "2023-10-16T20:53:53.412587939Z"
    }
   },
   "outputs": [],
   "source": [
    "data_cases.isna().sum()"
   ]
  },
  {
   "cell_type": "markdown",
   "id": "298b47b0",
   "metadata": {},
   "source": [
    "### 11. Посмотреть статистику по данным, используя describe(). Сделать выводы о том, какие признаки содержат выбросы. Посмотреть, для каких стран количество смертей в день превысило 3000 и сколько таких дней было."
   ]
  },
  {
   "cell_type": "code",
   "execution_count": null,
   "id": "9c5d178f",
   "metadata": {
    "ExecuteTime": {
     "start_time": "2023-10-16T20:53:53.412759077Z"
    }
   },
   "outputs": [],
   "source": [
    "data_cases.describe()"
   ]
  },
  {
   "cell_type": "markdown",
   "id": "52e85924",
   "metadata": {},
   "source": [
    "**Признаки, содержащие выбросы:**\n",
    "- **cases - минимальное значение в этом столбце отрицательное, хотя случаев заболевания не должно быть отрицательное количество**\n",
    "- **deaths - минимальное значение в этом столбце тоже отрицательное, хотя смертей не может быть отрицательное количество**"
   ]
  },
  {
   "cell_type": "code",
   "execution_count": null,
   "id": "a648fbb7",
   "metadata": {
    "ExecuteTime": {
     "start_time": "2023-10-16T20:53:53.412923242Z"
    }
   },
   "outputs": [],
   "source": [
    "filtered_data_cases = data_cases.loc[data_cases['deaths'] > 3000] #фильтруем датафрейм: берем только те строки, у которых в колонке 'deaths' значение больше 3000\n",
    "print(f'Страны, у которых количество смертей в день превысило 3000 и какое количество дней так было: \\n{filtered_data_cases.countriesAndTerritories.value_counts()}')"
   ]
  },
  {
   "cell_type": "markdown",
   "id": "abd9b13e",
   "metadata": {},
   "source": [
    "### 12. Найти дублирование данных. Удалить дубликаты."
   ]
  },
  {
   "cell_type": "code",
   "execution_count": null,
   "id": "1b969b16",
   "metadata": {
    "ExecuteTime": {
     "start_time": "2023-10-16T20:53:53.413100060Z"
    }
   },
   "outputs": [],
   "source": [
    "data_cases.duplicated()"
   ]
  },
  {
   "cell_type": "markdown",
   "id": "052bc6a9",
   "metadata": {},
   "source": [
    "**Дубликаты действительно есть, удалим их:**"
   ]
  },
  {
   "cell_type": "code",
   "execution_count": null,
   "id": "a5b2cc50",
   "metadata": {
    "ExecuteTime": {
     "start_time": "2023-10-16T20:53:53.413273690Z"
    }
   },
   "outputs": [],
   "source": [
    "data_cases.drop_duplicates(inplace=True)"
   ]
  },
  {
   "cell_type": "markdown",
   "id": "7f1d9a11",
   "metadata": {},
   "source": [
    "### 13. Загрузить данные из файла “bmi.csv”. \n",
    "### Взять оттуда две выборки. Одна выборка – это индекс массы тела людей c региона northwest, вторая выборка – это индекс массы тела людей с региона southwest. \n",
    "### Сравнить средние значения этих выборок, используя t-критерий Стьюдента. \n",
    "### Предварительно проверить выборки на нормальность (критерий Шопиро-Уилка) и на гомогенность дисперсии (критерий Бартлетта)."
   ]
  },
  {
   "cell_type": "code",
   "execution_count": null,
   "id": "c94e80b0",
   "metadata": {
    "ExecuteTime": {
     "start_time": "2023-10-16T20:53:53.413434454Z"
    }
   },
   "outputs": [],
   "source": [
    "data_bmi = pd.read_csv('bmi.csv')"
   ]
  },
  {
   "cell_type": "code",
   "execution_count": null,
   "id": "67412a71",
   "metadata": {
    "ExecuteTime": {
     "start_time": "2023-10-16T20:53:53.413626254Z"
    }
   },
   "outputs": [],
   "source": [
    "v_north = data_bmi.loc[data_bmi['region'] == 'northwest'].bmi\n",
    "v_south = data_bmi.loc[data_bmi['region'] == 'southwest'].bmi\n",
    "\n",
    "#проверка выборок на нормальность (критерий Шопиро-Уилка)\n",
    "k_shapiro_north = sts.shapiro(v_north)\n",
    "k_shapiro_south = sts.shapiro(v_south)\n",
    "print(k_shapiro_north, k_shapiro_south, sep='\\n')"
   ]
  },
  {
   "cell_type": "markdown",
   "id": "da5d1580",
   "metadata": {},
   "source": [
    "**Проверка выборок на нормальность успешная: обе выборки имеют pvalue, большее 0.05, а значит, имеют нормальное распределение**"
   ]
  },
  {
   "cell_type": "code",
   "execution_count": null,
   "id": "a4b3c57a",
   "metadata": {
    "ExecuteTime": {
     "start_time": "2023-10-16T20:53:53.415136540Z"
    }
   },
   "outputs": [],
   "source": [
    "#проверка выборок на гомогенность дисперсии (критерий Бартлетта)\n",
    "k_bartlett = sts.bartlett(v_north, v_south)\n",
    "print(k_bartlett)"
   ]
  },
  {
   "cell_type": "markdown",
   "id": "2f3d2f08",
   "metadata": {},
   "source": [
    "**pvalue первышает 0.05, следовательно, дисперсии выборок примерно одинаковы**"
   ]
  },
  {
   "cell_type": "code",
   "execution_count": null,
   "id": "d676929d",
   "metadata": {
    "ExecuteTime": {
     "start_time": "2023-10-16T20:53:53.415291882Z"
    }
   },
   "outputs": [],
   "source": [
    "#проверка выборок на средние значения (t-критерий Стьюдента)\n",
    "t_k = sts.ttest_ind(v_north, v_south)\n",
    "print(t_k)"
   ]
  },
  {
   "cell_type": "markdown",
   "id": "b9445dec",
   "metadata": {},
   "source": [
    "**pvalue меньше, чем 0.05, следовательно, средние значения выборок различны и они принадлежат к разным генеральным совокупностям**"
   ]
  },
  {
   "cell_type": "markdown",
   "id": "65f252a5",
   "metadata": {},
   "source": [
    "### 14. Кубик бросили 600 раз, получили следующие результаты:\n",
    "### N Количество выпадений\n",
    "### 1 97\n",
    "### 2 98\n",
    "### 3 109\n",
    "### 4 95\n",
    "### 5 97\n",
    "### 6 104\n",
    "### С помощью критерия Хи-квадрат проверить, является ли полученное распределение равномерным. Использовать функцию scipy.stats.chisquare()."
   ]
  },
  {
   "cell_type": "code",
   "execution_count": null,
   "id": "41e4dfd4",
   "metadata": {
    "ExecuteTime": {
     "start_time": "2023-10-16T20:53:53.415479309Z"
    }
   },
   "outputs": [],
   "source": [
    "observed = (97, 98, 109, 95, 97, 104)\n",
    "expected = (100, 100, 100, 100, 100, 100)\n",
    "sts.chisquare(observed, expected)"
   ]
  },
  {
   "cell_type": "markdown",
   "id": "364fc943",
   "metadata": {},
   "source": [
    "**При проверке критерием Хи-квадрат pvalue больше, чем 0.05, поэтому можно сделать вывод, что распределение является равномерным**"
   ]
  },
  {
   "cell_type": "markdown",
   "id": "d8735d34",
   "metadata": {},
   "source": [
    "### 15. С помощью критерия Хи-квадрат проверить, являются ли переменные зависимыми. \n",
    "### Создать датафрейм, используя следующий код:\n",
    "data = pd.DataFrame({'Женат': [89,17,11,43,22,1], 'Гражданский брак': [80,22,20,35,6,4], 'Не состоит в отношениях': [35,44,35,6,8,22]})\n",
    "\n",
    "data.index = ['Полный рабочий день','Частичная занятость','Временно не работает','На домохозяйстве','На пенсии','Учёба']\n",
    "### Использовать функцию scipy.stats.chi2_contingency(). Влияет ли семейное положение на занятость?"
   ]
  },
  {
   "cell_type": "code",
   "execution_count": null,
   "id": "e92f570c",
   "metadata": {
    "ExecuteTime": {
     "start_time": "2023-10-16T20:53:53.415629926Z"
    }
   },
   "outputs": [],
   "source": [
    "data = pd.DataFrame({'Женат': [89,17,11,43,22,1],\n",
    "                    'Гражданский брак': [80,22,20,35,6,4],\n",
    "                    'Не состоит в отношениях': [35,44,35,6,8,22]})\n",
    "\n",
    "data.index = ['Полный рабочий день','Частичная занятость','Временно не работает','На домохозяйстве','На пенсии','Учёба']\n",
    "sts.chi2_contingency(data)"
   ]
  },
  {
   "cell_type": "markdown",
   "id": "fc5af379",
   "metadata": {},
   "source": [
    "**Используя критерий Хи-квадрат (сhi2) и таблицу сопряженности (contingency) удалось проверить, что переменные являются зависимыми (pvalue значительно больше 0.05). Семейное положение влияет на занятость**"
   ]
  },
  {
   "cell_type": "code",
   "execution_count": null,
   "id": "77098086",
   "metadata": {
    "ExecuteTime": {
     "start_time": "2023-10-16T20:53:53.415772721Z"
    }
   },
   "outputs": [],
   "source": []
  }
 ],
 "metadata": {
  "kernelspec": {
   "display_name": "Python 3 (ipykernel)",
   "language": "python",
   "name": "python3"
  },
  "language_info": {
   "codemirror_mode": {
    "name": "ipython",
    "version": 3
   },
   "file_extension": ".py",
   "mimetype": "text/x-python",
   "name": "python",
   "nbconvert_exporter": "python",
   "pygments_lexer": "ipython3",
   "version": "3.11.5"
  }
 },
 "nbformat": 4,
 "nbformat_minor": 5
}
